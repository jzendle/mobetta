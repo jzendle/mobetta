{
 "cells": [
  {
   "cell_type": "code",
   "execution_count": 1,
   "metadata": {},
   "outputs": [],
   "source": [
    "a='this is a test'\n",
    "\n",
    "import utils as u\n",
    "\n"
   ]
  },
  {
   "cell_type": "code",
   "execution_count": 3,
   "metadata": {},
   "outputs": [],
   "source": [
    "df = u.read_pickle('port-new-analysis-sp500.p')"
   ]
  },
  {
   "cell_type": "code",
   "execution_count": 4,
   "metadata": {},
   "outputs": [
    {
     "output_type": "execute_result",
     "data": {
      "text/plain": "    ticker     rank       close        atr  cls_gt_ma    gap  num_shares  \\\n309   MKTX  4.01012  519.070007  18.922971       True  False    0.052846   \n\n          cost  pct_alloc  \n309  27.430682   4.346328  ",
      "text/html": "<div>\n<style scoped>\n    .dataframe tbody tr th:only-of-type {\n        vertical-align: middle;\n    }\n\n    .dataframe tbody tr th {\n        vertical-align: top;\n    }\n\n    .dataframe thead th {\n        text-align: right;\n    }\n</style>\n<table border=\"1\" class=\"dataframe\">\n  <thead>\n    <tr style=\"text-align: right;\">\n      <th></th>\n      <th>ticker</th>\n      <th>rank</th>\n      <th>close</th>\n      <th>atr</th>\n      <th>cls_gt_ma</th>\n      <th>gap</th>\n      <th>num_shares</th>\n      <th>cost</th>\n      <th>pct_alloc</th>\n    </tr>\n  </thead>\n  <tbody>\n    <tr>\n      <th>309</th>\n      <td>MKTX</td>\n      <td>4.01012</td>\n      <td>519.070007</td>\n      <td>18.922971</td>\n      <td>True</td>\n      <td>False</td>\n      <td>0.052846</td>\n      <td>27.430682</td>\n      <td>4.346328</td>\n    </tr>\n  </tbody>\n</table>\n</div>"
     },
     "metadata": {},
     "execution_count": 4
    }
   ],
   "source": [
    "df.head(1)"
   ]
  },
  {
   "cell_type": "code",
   "execution_count": null,
   "metadata": {},
   "outputs": [],
   "source": []
  }
 ],
 "metadata": {
  "kernelspec": {
   "display_name": "Python 3",
   "language": "python",
   "name": "python3"
  },
  "language_info": {
   "codemirror_mode": {
    "name": "ipython",
    "version": 3
   },
   "file_extension": ".py",
   "mimetype": "text/x-python",
   "name": "python",
   "nbconvert_exporter": "python",
   "pygments_lexer": "ipython3",
   "version": "3.8.3-final"
  }
 },
 "nbformat": 4,
 "nbformat_minor": 4
}