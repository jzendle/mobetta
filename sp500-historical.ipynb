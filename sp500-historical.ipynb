{
 "cells": [
  {
   "cell_type": "markdown",
   "metadata": {},
   "source": [
    "# extract SP500 historical constituents from Wikipedia\n",
    "\n",
    "Reference: https://analyzingalpha.com/sp500-historical-components-and-changes\n",
    "\n"
   ]
  },
  {
   "cell_type": "code",
   "execution_count": 2,
   "metadata": {},
   "outputs": [],
   "source": [
    "import pandas as pd\n",
    "from datetime import datetime\n",
    "import numpy as np\n",
    "data = pd.read_html('https://en.wikipedia.org/wiki/List_of_S%26P_500_companies')\n"
   ]
  },
  {
   "cell_type": "markdown",
   "metadata": {},
   "source": [
    "data contains 2 tables: current members and historical changes"
   ]
  },
  {
   "cell_type": "code",
   "execution_count": 3,
   "metadata": {},
   "outputs": [
    {
     "output_type": "execute_result",
     "data": {
      "text/html": "<div>\n<style scoped>\n    .dataframe tbody tr th:only-of-type {\n        vertical-align: middle;\n    }\n\n    .dataframe tbody tr th {\n        vertical-align: top;\n    }\n\n    .dataframe thead th {\n        text-align: right;\n    }\n</style>\n<table border=\"1\" class=\"dataframe\">\n  <thead>\n    <tr style=\"text-align: right;\">\n      <th></th>\n      <th>0</th>\n      <th>1</th>\n      <th>2</th>\n      <th>3</th>\n      <th>4</th>\n      <th>5</th>\n      <th>6</th>\n      <th>7</th>\n      <th>8</th>\n    </tr>\n  </thead>\n  <tbody>\n    <tr>\n      <th>0</th>\n      <td>Symbol</td>\n      <td>Security</td>\n      <td>SEC filings</td>\n      <td>GICS Sector</td>\n      <td>GICS Sub Industry</td>\n      <td>Headquarters Location</td>\n      <td>Date first added</td>\n      <td>CIK</td>\n      <td>Founded</td>\n    </tr>\n    <tr>\n      <th>1</th>\n      <td>MMM</td>\n      <td>3M Company</td>\n      <td>reports</td>\n      <td>Industrials</td>\n      <td>Industrial Conglomerates</td>\n      <td>St. Paul, Minnesota</td>\n      <td>1976-08-09</td>\n      <td>0000066740</td>\n      <td>1902</td>\n    </tr>\n    <tr>\n      <th>2</th>\n      <td>ABT</td>\n      <td>Abbott Laboratories</td>\n      <td>reports</td>\n      <td>Health Care</td>\n      <td>Health Care Equipment</td>\n      <td>North Chicago, Illinois</td>\n      <td>1964-03-31</td>\n      <td>0000001800</td>\n      <td>1888</td>\n    </tr>\n  </tbody>\n</table>\n</div>",
      "text/plain": "        0                    1            2            3  \\\n0  Symbol             Security  SEC filings  GICS Sector   \n1     MMM           3M Company      reports  Industrials   \n2     ABT  Abbott Laboratories      reports  Health Care   \n\n                          4                        5                 6  \\\n0         GICS Sub Industry    Headquarters Location  Date first added   \n1  Industrial Conglomerates      St. Paul, Minnesota        1976-08-09   \n2     Health Care Equipment  North Chicago, Illinois        1964-03-31   \n\n            7        8  \n0         CIK  Founded  \n1  0000066740     1902  \n2  0000001800     1888  "
     },
     "metadata": {},
     "execution_count": 3
    }
   ],
   "source": [
    "# 1st table is current members\n",
    "data[0].head(3)"
   ]
  },
  {
   "cell_type": "code",
   "execution_count": 4,
   "metadata": {},
   "outputs": [],
   "source": [
    "# columns 0,1,6,7 are useful - trim off first row that contains headings - make our own\n",
    "# fix null dates - give them 'impossible' value so they show up in date range queries\n",
    "\n",
    "sp500 = data[0].loc[1:,[0,1,6]]\n",
    "columns = ['ticker', 'name', 'date']\n",
    "sp500.columns = columns\n",
    "sp500.loc[sp500['date'].isnull(), 'date'] = '1957-01-01'\n"
   ]
  },
  {
   "cell_type": "code",
   "execution_count": 5,
   "metadata": {},
   "outputs": [
    {
     "output_type": "execute_result",
     "data": {
      "text/html": "<div>\n<style scoped>\n    .dataframe tbody tr th:only-of-type {\n        vertical-align: middle;\n    }\n\n    .dataframe tbody tr th {\n        vertical-align: top;\n    }\n\n    .dataframe thead th {\n        text-align: right;\n    }\n</style>\n<table border=\"1\" class=\"dataframe\">\n  <thead>\n    <tr style=\"text-align: right;\">\n      <th></th>\n      <th>ticker</th>\n      <th>name</th>\n      <th>date</th>\n    </tr>\n  </thead>\n  <tbody>\n    <tr>\n      <th>55</th>\n      <td>T</td>\n      <td>AT&amp;T Inc.</td>\n      <td>1983-11-30 (1957-03-04)</td>\n    </tr>\n  </tbody>\n</table>\n</div>",
      "text/plain": "   ticker       name                     date\n55      T  AT&T Inc.  1983-11-30 (1957-03-04)"
     },
     "metadata": {},
     "execution_count": 5
    }
   ],
   "source": [
    "# bad format\n",
    "sp500.query('date.str.len() != \"10\"')"
   ]
  },
  {
   "cell_type": "code",
   "execution_count": 6,
   "metadata": {},
   "outputs": [
    {
     "output_type": "execute_result",
     "data": {
      "text/html": "<div>\n<style scoped>\n    .dataframe tbody tr th:only-of-type {\n        vertical-align: middle;\n    }\n\n    .dataframe tbody tr th {\n        vertical-align: top;\n    }\n\n    .dataframe thead th {\n        text-align: right;\n    }\n</style>\n<table border=\"1\" class=\"dataframe\">\n  <thead>\n    <tr style=\"text-align: right;\">\n      <th></th>\n      <th>ticker</th>\n      <th>name</th>\n      <th>date</th>\n    </tr>\n  </thead>\n  <tbody>\n    <tr>\n      <th>55</th>\n      <td>T</td>\n      <td>AT&amp;T Inc.</td>\n      <td>1983-11-30 (1957-03-04)</td>\n    </tr>\n  </tbody>\n</table>\n</div>",
      "text/plain": "   ticker       name                     date\n55      T  AT&T Inc.  1983-11-30 (1957-03-04)"
     },
     "metadata": {},
     "execution_count": 6
    }
   ],
   "source": [
    "# use a regex -- need to do some googling\n",
    "# https://www.regular-expressions.info/numericranges.html\n",
    "sp500[sp500.date.str.match('^[1-2][0-9][0-9][0-9]-[0-9][0-9]-[0-9][0-9]$') != True]\n",
    "\n",
    "# ATT is bad"
   ]
  },
  {
   "cell_type": "code",
   "execution_count": 7,
   "metadata": {},
   "outputs": [
    {
     "output_type": "execute_result",
     "data": {
      "text/html": "<div>\n<style scoped>\n    .dataframe tbody tr th:only-of-type {\n        vertical-align: middle;\n    }\n\n    .dataframe tbody tr th {\n        vertical-align: top;\n    }\n\n    .dataframe thead th {\n        text-align: right;\n    }\n</style>\n<table border=\"1\" class=\"dataframe\">\n  <thead>\n    <tr style=\"text-align: right;\">\n      <th></th>\n      <th>0</th>\n      <th>1</th>\n      <th>2</th>\n      <th>3</th>\n      <th>4</th>\n      <th>5</th>\n      <th>6</th>\n      <th>7</th>\n      <th>8</th>\n    </tr>\n  </thead>\n  <tbody>\n    <tr>\n      <th>0</th>\n      <td>Symbol</td>\n      <td>Security</td>\n      <td>SEC filings</td>\n      <td>GICS Sector</td>\n      <td>GICS Sub Industry</td>\n      <td>Headquarters Location</td>\n      <td>Date first added</td>\n      <td>CIK</td>\n      <td>Founded</td>\n    </tr>\n    <tr>\n      <th>55</th>\n      <td>T</td>\n      <td>AT&amp;T Inc.</td>\n      <td>reports</td>\n      <td>Communication Services</td>\n      <td>Integrated Telecommunication Services</td>\n      <td>Dallas, Texas</td>\n      <td>1983-11-30 (1957-03-04)</td>\n      <td>0000732717</td>\n      <td>1983 (1885)</td>\n    </tr>\n  </tbody>\n</table>\n</div>",
      "text/plain": "         0          1            2                       3  \\\n0   Symbol   Security  SEC filings             GICS Sector   \n55       T  AT&T Inc.      reports  Communication Services   \n\n                                        4                      5  \\\n0                       GICS Sub Industry  Headquarters Location   \n55  Integrated Telecommunication Services          Dallas, Texas   \n\n                          6           7            8  \n0          Date first added         CIK      Founded  \n55  1983-11-30 (1957-03-04)  0000732717  1983 (1885)  "
     },
     "metadata": {},
     "execution_count": 7
    }
   ],
   "source": [
    "# look in original data\n",
    "data[0][ (data[0][6].str.len() != 10) & (~data[0][6].isnull())]\n"
   ]
  },
  {
   "cell_type": "code",
   "execution_count": 8,
   "metadata": {},
   "outputs": [
    {
     "output_type": "execute_result",
     "data": {
      "text/html": "<div>\n<style scoped>\n    .dataframe tbody tr th:only-of-type {\n        vertical-align: middle;\n    }\n\n    .dataframe tbody tr th {\n        vertical-align: top;\n    }\n\n    .dataframe thead th {\n        text-align: right;\n    }\n</style>\n<table border=\"1\" class=\"dataframe\">\n  <thead>\n    <tr style=\"text-align: right;\">\n      <th></th>\n      <th>ticker</th>\n      <th>name</th>\n      <th>date</th>\n    </tr>\n  </thead>\n  <tbody>\n    <tr>\n      <th>55</th>\n      <td>T</td>\n      <td>AT&amp;T Inc.</td>\n      <td>1983-11-30</td>\n    </tr>\n  </tbody>\n</table>\n</div>",
      "text/plain": "   ticker       name        date\n55      T  AT&T Inc.  1983-11-30"
     },
     "metadata": {},
     "execution_count": 8
    }
   ],
   "source": [
    "# fix it\n",
    "sp500.loc[~sp500.date.str.match('^[1-2][0-9][0-9][0-9]-[0-9][0-9]-[0-9][0-9]$'),'date'] = '1983-11-30'\n",
    "\n",
    "# check\n",
    "sp500.query('ticker == \"T\"')\n",
    "\n",
    " "
   ]
  },
  {
   "cell_type": "code",
   "execution_count": 9,
   "metadata": {},
   "outputs": [],
   "source": [
    "# convert string to datetime type\n",
    "# https://stackoverflow.com/questions/34962104/pandas-how-can-i-use-the-apply-function-for-a-single-column\n",
    "\n",
    "sp500['dt'] = sp500['date'].apply(lambda x: datetime.strptime(x,'%Y-%m-%d'))"
   ]
  },
  {
   "cell_type": "code",
   "execution_count": 10,
   "metadata": {},
   "outputs": [
    {
     "output_type": "execute_result",
     "data": {
      "text/plain": "'2015-08-31'"
     },
     "metadata": {},
     "execution_count": 10
    }
   ],
   "source": [
    "sp500['date'].at(0)[6]"
   ]
  },
  {
   "cell_type": "code",
   "execution_count": 11,
   "metadata": {},
   "outputs": [],
   "source": [
    "# add an action variable - not sure if we need it but could be useful\n",
    "sp500['action'] = 'add'\n"
   ]
  },
  {
   "cell_type": "code",
   "execution_count": 12,
   "metadata": {
    "tags": []
   },
   "outputs": [
    {
     "output_type": "stream",
     "name": "stdout",
     "text": "No dups? True\n"
    }
   ],
   "source": [
    "\n",
    "# are there dups?\n",
    "print('No dups? {}'.format(len(sp500) == len(sp500.ticker.unique())))\n"
   ]
  },
  {
   "cell_type": "code",
   "execution_count": 13,
   "metadata": {},
   "outputs": [],
   "source": [
    "\n",
    "# pickle it\n",
    "import utils\n",
    "utils.pickle_file(sp500, 'sp500-current.p')"
   ]
  },
  {
   "cell_type": "code",
   "execution_count": 14,
   "metadata": {
    "tags": []
   },
   "outputs": [
    {
     "output_type": "stream",
     "name": "stdout",
     "text": "num records 475\n<class 'datetime.datetime'>\ndate              object\nticker            object\naction            object\ndt        datetime64[ns]\ndtype: object\nEmpty DataFrame\nColumns: [date, ticker, action, dt]\nIndex: []\n"
    }
   ],
   "source": [
    "# now deal with the historical changes\n",
    "\n",
    "changes = data[1]\n",
    "\n",
    "changes[2:]   # messy\n",
    "\n",
    "# looking at the wiki article we see that column 1 are adds, column 3 are removes; both for the date \n",
    "# in column 0. I'll flatten this out usng a seperate rows and an action code\n",
    "\n",
    "# sp500 = data[0].loc[1:,[0,1,6,7]]\n",
    "# columns = ['added_ticker', 'name', 'date', 'cik']\n",
    "\n",
    "\n",
    "sp500_adds = changes.loc[2:,[0,1]]\n",
    "columns = ['date', 'ticker']\n",
    "sp500_adds.columns = columns\n",
    "sp500_adds['action'] = 'add'\n",
    "\n",
    "# append the remove actions\n",
    "tmp = changes.loc[2:,[0,3]]\n",
    "tmp.columns = columns\n",
    "tmp['action'] = 'rem'\n",
    "sp500_adds = sp500_adds.append(tmp)\n",
    "\n",
    "# drop null ticker values\n",
    "\n",
    "sp500_adds = sp500_adds[~sp500_adds.ticker.isnull()]\n",
    "sp500_adds['dt'] = sp500_adds['date'].apply(lambda x: datetime.strptime(x,'%B %d, %Y'))\n",
    "sz1 = len(sp500_adds)\n",
    "sp500_adds.drop_duplicates(keep=False,inplace=True) \n",
    "drops = sz1 != len(sp500_adds)\n",
    "\n",
    "print ('num records {}'.format(sz1))\n",
    "\n",
    "if drops:\n",
    "    print('you dropped something')\n",
    "\n",
    "\n",
    "#print(sp500_adds.head(5))\n",
    "#print(sp500_adds.tail(5))\n",
    "\n",
    "# make sure all the datetimes are valid\n",
    "sp500_adds[sp500_adds.dt.isnull()]\n",
    "\n",
    "right_now = datetime.now()\n",
    "\n",
    "print(type(right_now))\n",
    "print(sp500_adds.dtypes)\n",
    "df = sp500_adds\n",
    "\n",
    "# test how query functions work\n",
    "df[(df['dt'] > '1924-1-1') & (df['action'] == 'add')]\n",
    "\n",
    "now = pd.datetime.today()\n",
    "print(df.query(\"dt > @right_now  \"))\n"
   ]
  },
  {
   "cell_type": "code",
   "execution_count": 15,
   "metadata": {},
   "outputs": [],
   "source": [
    "# save it\n",
    "utils.pickle_file(sp500_adds, 'sp500-deltas.p')"
   ]
  },
  {
   "cell_type": "code",
   "execution_count": 22,
   "metadata": {
    "tags": []
   },
   "outputs": [
    {
     "output_type": "stream",
     "name": "stdout",
     "text": "components:\ndiff ret - current Counter({'CELG': 1, 'WIN': 1, 'DJ': 1, 'WB': 1, 'S': 1, 'STI': 1, 'SVU': 1, 'PCL': 1, 'LIFE': 1, 'TE': 1, 'OI': 1, 'BJS': 1, 'RHT': 1, 'SPLS': 1, 'ITT': 1, 'BCR': 1, 'TWX': 1, 'RAI': 1, 'LXK': 1, 'JBL': 1, 'FLR': 1, 'DPS': 1, 'POM': 1, 'GAS': 1, 'GHC': 1, 'PCS': 1, 'FDO': 1, 'NSM': 1, 'GR': 1, 'MWW': 1, 'BS': 1, 'RRD': 1, 'CVH': 1, 'PCG': 1, 'MJN': 1, 'JNY': 1, 'FRX': 1, 'TGNA': 1, 'GENZ': 1, 'HSP': 1, 'DD': 1, 'KSE': 1, 'SAI': 1, 'MIL': 1, 'BEAM': 1, 'BRCM': 1, 'SHLD': 1, 'DTV': 1, 'SLE': 1, 'PBI': 1, 'EQT': 1, 'WFM': 1, 'MUR': 1, 'RDC': 1, 'FRE': 1, 'CSC': 1, 'VIAB': 1, 'R': 1, 'ODP': 1, 'BMC': 1, 'APC': 1, 'THC': 1, 'SCG': 1, 'JCP': 1, 'AET': 1, 'TWC': 1, 'DNR': 1, 'SRCL': 1, 'AKS': 1, 'LEH': 1, 'X': 1, 'RSH': 1, 'JCI': 1, 'BIG': 1, 'TIE': 1, 'ACAS': 1, 'CBE': 1, 'TSG': 1, 'HNZ': 1, 'NE': 1, 'NYX': 1, 'TER': 1, 'CNX': 1, 'CFN': 1, 'CCE': 1, 'AN': 1, 'URBN': 1, 'MMI': 1, 'AV': 1, 'MAT': 1, 'GRA': 1, 'TLAB': 1, 'JEF': 1, 'XTO': 1, 'COL': 1, 'LM': 1, 'PTV': 1, 'SWY': 1, 'LLTC': 1, 'BBBY': 1, 'EMC': 1, 'CAM': 1, 'MI': 1, 'XL': 1, 'NYT': 1, 'SNI': 1, 'STR': 1, 'BTU': 1, 'NBR': 1, 'CHK': 1, 'PDCO': 1, 'DELL': 1, 'FTR': 1, 'HCBK': 1, 'HOT': 1, 'CLF': 1, 'HAR': 1, 'RAD': 1, 'SII': 1, 'WYN': 1, 'SGP': 1, 'KG': 1, 'SIAL': 1, 'ANDV': 1, 'DV': 1, 'MON': 1, 'GLK': 1, 'LSI': 1, 'WFR': 1, 'NVLS': 1, 'LLL': 1, 'PCP': 1, 'RX': 1, 'DO': 1, 'CA': 1, 'SUN': 1, 'STJ': 1, 'CPWR': 1, 'FSLR': 1, 'GT': 1, 'JNS': 1, 'APOL': 1, 'IGT': 1, 'EK': 1, 'YHOO': 1, 'AVP': 1, 'ABS': 1, 'DNB': 1, 'CEG': 1, 'EP': 1, 'AGN': 1, 'ATI': 1, 'MEE': 1, 'FHN': 1, 'MFE': 1, 'SE': 1, 'SLM': 1, 'CCK': 1, 'ANF': 1, 'TRB': 1, 'TDC': 1, 'TSS': 1, 'PLL': 1, 'NOVL': 1, 'MHS': 1, 'DF': 1, 'ALTR': 1, 'CEPH': 1, 'FNM': 1, 'GNW': 1, 'SWN': 1, 'FII': 1, 'TEG': 1, 'SNDK': 1, 'MOLX': 1, 'QTRN': 1, 'PGN': 1})\ndiff current - ret Counter({'WAB': 1, 'UAL': 1, 'HPE': 1, 'DXC': 1, 'CDW': 1, 'COTY': 1, 'KHC': 1, 'HBI': 1, 'GM': 1, 'UHS': 1, 'AWK': 1, 'CPRT': 1, 'ILMN': 1, 'PKG': 1, 'PNR': 1, 'DISH': 1, 'LDOS': 1, 'CTVA': 1, 'SYF': 1, 'MXIM': 1, 'FOX': 1, 'AAP': 1, 'FAST': 1, 'JBHT': 1, 'PYPL': 1, 'CE': 1, 'IDXX': 1, 'GRMN': 1, 'MHK': 1, 'ABMD': 1, 'TWTR': 1, 'AJG': 1, 'AVGO': 1, 'PSX': 1, 'NLSN': 1, 'HII': 1, 'FFIV': 1, 'MSCI': 1, 'PRGO': 1, 'WRB': 1, 'ABBV': 1, 'NWS': 1, 'ALK': 1, 'VRSK': 1, 'CDNS': 1, 'DG': 1, 'QRVO': 1, 'KMX': 1, 'ZTS': 1, 'FRT': 1, 'HLT': 1, 'NOW': 1, 'TMUS': 1, 'NFLX': 1, 'DLR': 1, 'STZ': 1, 'NCLH': 1, 'DISCK': 1, 'CFG': 1, 'DAL': 1, 'IT': 1, 'MPC': 1, 'NVR': 1, 'ACN': 1, 'SLG': 1, 'FTNT': 1, 'EW': 1, 'UDR': 1, 'PVH': 1, 'REGN': 1, 'TEL': 1, 'CHTR': 1, 'JKHY': 1, 'AAL': 1, 'CHD': 1, 'AOS': 1, 'FBHS': 1, 'SNPS': 1, 'FOXA': 1, 'ZBRA': 1, 'JNPR': 1, 'ANSS': 1, 'URI': 1, 'FLT': 1, 'ARE': 1, 'LRCX': 1, 'MOS': 1, 'IEX': 1, 'TSCO': 1, 'TTWO': 1, 'CXO': 1, 'MNST': 1, 'GPN': 1, 'RCL': 1, 'STX': 1, 'IR': 1, 'GOOGL': 1, 'LYB': 1, 'HCA': 1, 'HRL': 1, 'COO': 1, 'SWKS': 1, 'ROL': 1, 'INCY': 1, 'RE': 1, 'FB': 1, 'EXR': 1, 'RMD': 1, 'AME': 1, 'HSIC': 1, 'CCI': 1, 'VRTX': 1, 'FRC': 1, 'ATVI': 1, 'VTR': 1, 'STE': 1, 'EVRG': 1, 'ALXN': 1, 'BLK': 1, 'ULTA': 1, 'INFO': 1, 'FANG': 1, 'RJF': 1, 'AVB': 1, 'ATO': 1, 'MTD': 1, 'HOLX': 1, 'SIVB': 1, 'HFC': 1, 'CNC': 1, 'LKQ': 1, 'LNT': 1, 'EQIX': 1, 'MAA': 1, 'ANET': 1, 'CMG': 1, 'LVS': 1, 'SBAC': 1, 'TFX': 1, 'LW': 1, 'BWA': 1, 'WLTW': 1, 'IPGP': 1, 'INTU': 1, 'CRM': 1, 'CBOE': 1, 'FTV': 1, 'ALB': 1, 'DRE': 1, 'DOW': 1, 'ODFL': 1, 'MLM': 1, 'ALGN': 1, 'KEYS': 1, 'O': 1, 'REG': 1, 'ALLE': 1, 'XYL': 1, 'ADS': 1, 'MKTX': 1, 'TDG': 1, 'KSU': 1, 'ESS': 1, 'DLTR': 1, 'BR': 1, 'KMI': 1, 'UA': 1, 'CERN': 1, 'MGM': 1, 'LYV': 1})\ndiff ret - current Counter({'GRA': 1, 'TSG': 1, 'TRB': 1, 'ABS': 1, 'GLK': 1, 'CBE': 1, 'FNM': 1, 'LEH': 1, 'FRE': 1, 'CCK': 1, 'BS': 1, 'RAD': 1, 'QTRN': 1, 'AV': 1, 'RX': 1, 'JNY': 1, 'DJ': 1, 'WB': 1, 'SGP': 1, 'KSE': 1, 'ACAS': 1})\ndiff current - ret Counter({'FAST': 1, 'VTR': 1, 'HRL': 1, 'JNPR': 1, 'INTU': 1, 'STZ': 1, 'AVB': 1, 'CRM': 1})\ndiff1 {'WIN', 'S', 'STI', 'SVU', 'PCL', 'LIFE', 'TE', 'OI', 'BJS', 'RHT', 'NVLS', 'SPLS', 'BCR', 'TWX', 'RAI', 'LXK', 'JBL', 'FLR', 'DPS', 'GAS', 'GHC', 'PCS', 'FDO', 'NSM', 'GR', 'MWW', 'PCG', 'RRD', 'CVH', 'MJN', 'FRX', 'GENZ', 'HSP', 'MIL', 'BEAM', 'DV', 'BRCM', 'PCP', 'SHLD', 'DTV', 'SLE', 'PBI', 'EQT', 'WFM', 'MUR', 'RDC', 'CELG', 'CSC', 'VIAB', 'ITT', 'R', 'ODP', 'BMC', 'APC', 'THC', 'SCG', 'JCP', 'AET', 'DNR', 'SRCL', 'AKS', 'X', 'RSH', 'TGNA', 'BIG', 'EMC', 'TIE', 'HNZ', 'LLL', 'NE', 'NYX', 'TER', 'MEE', 'CNX', 'SNDK', 'CFN', 'JNS', 'AN', 'CCE', 'URBN', 'MMI', 'MAT', 'TLAB', 'JEF', 'XTO', 'COL', 'LM', 'PTV', 'SWY', 'LLTC', 'BBBY', 'CAM', 'MI', 'XL', 'NYT', 'SNI', 'STR', 'NBR', 'CHK', 'PDCO', 'DELL', 'FTR', 'HCBK', 'HOT', 'CLF', 'TSS', 'HAR', 'SII', 'WYN', 'KG', 'SIAL', 'ANDV', 'MON', 'LSI', 'WFR', 'TWC', 'BTU', 'DO', 'CA', 'SUN', 'STJ', 'CPWR', 'FSLR', 'GT', 'APOL', 'IGT', 'EK', 'YHOO', 'AVP', 'DNB', 'CEG', 'EP', 'AGN', 'POM', 'ATI', 'FHN', 'SAI', 'MFE', 'SE', 'SLM', 'ANF', 'TDC', 'PLL', 'MHS', 'DF', 'ALTR', 'CEPH', 'GNW', 'SWN', 'FII', 'TEG', 'NOVL', 'MOLX', 'PGN'}\ndiff2{'DXC', 'COTY', 'AVGO', 'HBI', 'UHS', 'PNR', 'LDOS', 'SYF', 'FOX', 'GRMN', 'ABMD', 'TWTR', 'KMI', 'FFIV', 'MSCI', 'DAL', 'WRB', 'NWS', 'VRSK', 'CDNS', 'UA', 'QRVO', 'ZTS', 'INCY', 'NOW', 'TMUS', 'NFLX', 'DLR', 'DISCK', 'CFG', 'IT', 'LRCX', 'MPC', 'SLG', 'FTNT', 'AWK', 'UDR', 'TEL', 'CHTR', 'SNPS', 'PKG', 'FOXA', 'EQIX', 'ARE', 'MOS', 'TSCO', 'GPN', 'IR', 'LYB', 'COO', 'EXR', 'RMD', 'KSU', 'CCI', 'ALXN', 'NVR', 'CHD', 'CE', 'MNST', 'HOLX', 'HFC', 'RJF', 'LNT', 'TFX', 'LW', 'IPGP', 'CBOE', 'ODFL', 'KEYS', 'XYL', 'BLK', 'ESS', 'DLTR', 'BR', 'UAL', 'HPE', 'CDW', 'KHC', 'MHK', 'CPRT', 'TTWO', 'CTVA', 'MXIM', 'JBHT', 'PYPL', 'SBAC', 'IDXX', 'ALB', 'FBHS', 'NLSN', 'PSX', 'HII', 'PRGO', 'REG', 'ALK', 'HLT', 'LVS', 'CNC', 'NCLH', 'LYV', 'EW', 'AJG', 'REGN', 'AAL', 'AOS', 'SWKS', 'STE', 'ZBRA', 'ILMN', 'ANSS', 'URI', 'ABBV', 'BWA', 'FLT', 'CERN', 'KMX', 'RCL', 'STX', 'GOOGL', 'CXO', 'MGM', 'ROL', 'RE', 'FB', 'FRT', 'WAB', 'AME', 'GM', 'HSIC', 'FRC', 'ATVI', 'EVRG', 'DG', 'ULTA', 'INFO', 'VRTX', 'FANG', 'IEX', 'ATO', 'MTD', 'ANET', 'MAA', 'CMG', 'PVH', 'WLTW', 'DISH', 'ACN', 'LKQ', 'FTV', 'AAP', 'DRE', 'DOW', 'MLM', 'ALGN', 'JKHY', 'HCA', 'ALLE', 'O', 'ADS', 'MKTX', 'TDG', 'SIVB'}\nnum elems 510\nnum elems2 518\n"
    }
   ],
   "source": [
    "# come up with a routine to get the components for any given date\n",
    "\n",
    "import utils as u\n",
    "from collections import Counter\n",
    "\n",
    "class SP500Components:\n",
    "    # static vars - fyi initiailized when first encountered in code \n",
    "    _sp500_current_df = u.read_pickle('sp500-current.p')\n",
    "    _sp500_deltas_df = u.read_pickle('sp500-deltas.p')\n",
    "    # cache current members as Counter \n",
    "    # - allowing duplicate values and graceful handling \n",
    "    # of possible multiple add/drop for same ticker\n",
    "    _sp500_current = Counter(_sp500_current_df['ticker'].tolist())\n",
    "\n",
    "    def __init__(self):\n",
    "        pass\n",
    "        \n",
    "        \n",
    "    def from_date(self, datetime):\n",
    "        # basic algo is\n",
    "        # S(t) = S(current) + S(drops > date) - S(add > date) \n",
    "        # df = self._sp500_current_df\n",
    "        # curr = Counter(df[df['dt'] < datetime]['ticker'].tolist())\n",
    "        # print('num curr < datetime {} is {}'.format(datetime,len(curr)))\n",
    "        adds = Counter(SP500Components._sp500_deltas_df\n",
    "                       .query('action == \"add\" and dt <= @datetime')['ticker'].tolist())\n",
    "        #print('adds {}'.format(adds))\n",
    "        drops = Counter(SP500Components._sp500_deltas_df\n",
    "                        .query('action == \"rem\" and dt <= @datetime')['ticker'].tolist())\n",
    "        #print('drops {}'.format(drops))\n",
    "        ret = SP500Components._sp500_current + drops - adds\n",
    "        print('diff ret - current {}'.format(ret - self._sp500_current))\n",
    "        print('diff current - ret {}'.format(self._sp500_current - ret))\n",
    "        return list(ret)\n",
    "\n",
    "\n",
    "comps = SP500Components()\n",
    "\n",
    "now = datetime.strptime('2020-01-01','%Y-%d-%m').date()\n",
    "\n",
    "\n",
    "\n",
    "now2 = datetime.strptime('2010-01-04','%Y-%d-%m').date()\n",
    "\n",
    "print('components:')\n",
    "elems = comps.from_date(now)\n",
    "elems2 = comps.from_date(now2)\n",
    "\n",
    "print('diff1 {}'.format(set(elems) - set(elems2)))\n",
    "\n",
    "print('diff2{}'.format(set(elems2) - set(elems)))\n",
    "\n",
    "print('num elems {}'.format(len(elems)))\n",
    "print('num elems2 {}'.format(len(elems2)))\n"
   ]
  },
  {
   "cell_type": "code",
   "execution_count": 23,
   "metadata": {},
   "outputs": [
    {
     "output_type": "execute_result",
     "data": {
      "text/plain": "456"
     },
     "metadata": {},
     "execution_count": 23
    }
   ],
   "source": [
    "elems2.index('BRK.B')\n",
    "#df = u.read_pickle('sp500-current')\n",
    "\n",
    "#len(df[df['dt'] < '2020-1-1'])"
   ]
  },
  {
   "cell_type": "code",
   "execution_count": null,
   "metadata": {},
   "outputs": [],
   "source": []
  }
 ],
 "metadata": {
  "kernelspec": {
   "display_name": "Python 3",
   "language": "python",
   "name": "python3"
  },
  "language_info": {
   "codemirror_mode": {
    "name": "ipython",
    "version": 3
   },
   "file_extension": ".py",
   "mimetype": "text/x-python",
   "name": "python",
   "nbconvert_exporter": "python",
   "pygments_lexer": "ipython3",
   "version": "3.5.9"
  }
 },
 "nbformat": 4,
 "nbformat_minor": 4
}